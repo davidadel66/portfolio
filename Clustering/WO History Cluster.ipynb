{
 "cells": [
  {
   "cell_type": "code",
   "execution_count": 2,
   "id": "1b0472a2",
   "metadata": {},
   "outputs": [],
   "source": [
    "import pandas as pd\n",
    "from sklearn.feature_extraction.text import CountVectorizer\n",
    "from sklearn.decomposition import TruncatedSVD\n",
    "from sklearn.cluster import KMeans\n",
    "from sklearn.linear_model import LogisticRegression\n"
   ]
  },
  {
   "cell_type": "markdown",
   "id": "294053b9",
   "metadata": {},
   "source": [
    "### Load the dataset from a csv file and clean it up. Remove all the NA cells to prevent issues in the code. Then, Preprocess all of the work order descriptions"
   ]
  },
  {
   "cell_type": "code",
   "execution_count": 3,
   "id": "07044b86",
   "metadata": {},
   "outputs": [],
   "source": [
    "df = pd.read_excel('A32 WO List.xlsx').dropna()\n",
    "\n",
    "vectorizer = CountVectorizer()\n",
    "X = vectorizer.fit_transform(df['Work Order Description (Work Order)'])"
   ]
  },
  {
   "cell_type": "markdown",
   "id": "c7584663",
   "metadata": {},
   "source": [
    "### Use singular Value Decomposition to reduce the amount of dimensions of the Data"
   ]
  },
  {
   "cell_type": "code",
   "execution_count": 4,
   "id": "f0440154",
   "metadata": {},
   "outputs": [],
   "source": [
    "svd = TruncatedSVD(n_components=50)\n",
    "X_reduced = svd.fit_transform(X)"
   ]
  },
  {
   "cell_type": "markdown",
   "id": "a3a53ca3",
   "metadata": {},
   "source": [
    "### Cluster the work orders to however many you want. For the purpose of limiting the scope of this problem solving tool, We will have 5 clusters."
   ]
  },
  {
   "cell_type": "code",
   "execution_count": 8,
   "id": "9d7bf9f4",
   "metadata": {},
   "outputs": [],
   "source": [
    "kmeans = KMeans(n_clusters=10)\n",
    "clusters = kmeans.fit_predict(X_reduced)"
   ]
  },
  {
   "cell_type": "markdown",
   "id": "af77aba2",
   "metadata": {},
   "source": [
    "### Training a classifier to correlate the notes of the work order to the issue identified. "
   ]
  },
  {
   "cell_type": "code",
   "execution_count": 6,
   "id": "3c4e3605",
   "metadata": {},
   "outputs": [
    {
     "data": {
      "text/plain": [
       "LogisticRegression()"
      ]
     },
     "execution_count": 6,
     "metadata": {},
     "output_type": "execute_result"
    }
   ],
   "source": [
    "classifier = LogisticRegression()\n",
    "classifier.fit(X, df['Note (Work Order-Note)'])"
   ]
  },
  {
   "cell_type": "markdown",
   "id": "3be756f2",
   "metadata": {},
   "source": [
    "### Extract the top 10 repeated issues and their proposed solutions by looping through the clusters and counting the number of work orders. Then, print the most common problem and the solution for it. "
   ]
  },
  {
   "cell_type": "code",
   "execution_count": 13,
   "id": "fe12b09a",
   "metadata": {},
   "outputs": [
    {
     "name": "stdout",
     "output_type": "stream",
     "text": [
      "Cluster 1: 67 work orders\n",
      "Most common problem: Need new home switch on the 6th position cross slide-1063--\n",
      "Proposed solution: 02/14/13 7259 REPLACED SWITCH AND CORD SEAL.\n",
      "\n",
      "Cluster 2: 109 work orders\n",
      "Most common problem: Machine will not reset-acme nocam--\n",
      "Proposed solution: 12/17/12 8949 MACHINE RESETS OKAY, BUT AS SOON AS YOU HOME UNITS F7 MACHINE FAULTS. JUMPED 180-72 NO FAULTS ALL UNITS HOME OKAY. JUMPED 180-A FAULTS WHEN UNITS ARE HOMED. JUMPED 72-A, NO FAULTS, 72-A IS ZX-1 MAIN SLIDE. CHECKED SWITCHES AT INPUT/OUTPUT BOARD, THEY SEEM TO BE FINE. FAULT STRING ON PRINTS IS 72-180 STARTING WITH ZX1. LOOK AT ACTUAL WIRING OF DRIVES, IT'S 72B-180. NOT SURE WHAT CRWD AND CRF1 ARE, COULD NOT LOCATE THEM ON THE PRINTS. OBVIOUSLY THEY ARE CONTROL RELAYS BUT FOR WHAT, NO CLUE, AND BECAUSE PRINTS DO NOT SHOW THEM I'M NOT SURE IF THEY ARE PART OF DRIVE STRING OR NOT, OR IF DRIVE STRING ACTUALLY STARTS AT 72B AND NOT 72?? NO DRIVE IN STOCK TO REPLACE ZX1 WITH, WHICH I BELIEVE THE FAULT CONTACT ON IT IS BAD. KEEP THINKING I WAS FORGETTING TO CHECK SOMETHING SO I WENT BACK OUT TO MACHINE. WITH WIRES OFF FAULT CONTACT ON ZX1 MACHINE RUNS. CHECK FAULT CONTACT WITH WIRES OFF READS GOOD? STARTED TRACING BACK FROM THERE TO CRF1. CHECKED TIGHTNESS OF WIRES AND 72B PULLED OFF WITH LITTLE EFFORT, THESE ARE SPRING TYPE CONNECTIONS. STRIPPED WIRE BACK AND PUT BACK ON RELAY BASE, TIGHT NOW. STARTED UP MACHINE AND IT RUNS. ALSO, CONFUSION ABOUT ZX1 IS CROSS SLIDE 1 NOT AUXILIARY DRILL/REAMER UNIT 1 (MAIN SLIDE). PRINTS ARE CONFUSING. MACHINE RUNNING. BACK TO THE DEPARTMENT TO CHECK OUT. 12/17/12 10141 I TALKED WITH ANIL AND WE THINK MAYBE THE 5V IS DROPPING. I MEASURED VOLTAGE NOW AND IT IS AT 5.0. WHEN THE MACHINE FAULTS AGAIN WE CAN CHECK IT AND SEE IF SOMETHING IS PULLING VOLTAGE DOWN. 12/18/12 8949 LOSING 5V IS ALWAYS THE ANSWER. CHECKED 5V, 12V, AND 24V EACH TIME IT FAULTED, ALL WERE GOOD. DID THIS SEVERAL TIMES. CHECKED COMPUTER 5V AND POWER SUPPLY 5V, BOTH GOOD. AIR CONDITIONER IS BLOWING WARM AIR. FILLED TRABON, IT WAS BELOW LOW LEVEL LINE. TIGHTENED QUITE A FEW TERMINALS ON SWITCHES IN OPERATOR PANELS. CHECKED 5V AT OPTO WHEN FAULTED 4.99 VDC, WHICH IS ALSO GOOD.\n",
      "\n",
      "Cluster 3: 18 work orders\n",
      "Most common problem: 4th position crosslide ran away.It went all the way to the spindle. Looks like it has come off the ball screw.-1 1/4\" RA-6 ACME SCREW NOCAM (NC-57)--\n",
      "Proposed solution: 12/06/12 8949 REPLACED 4TH POSITION CROSS SLIDE SWITCH. THAT'S AS FAR AS I COULD GO. SLIDE LANDED ON THE CABLE FOR THE SPINDLE POSITION SWITCH, I COULD NOT GET TO IT TO CHECK IT OUT, SLIDE WAS STILL LAYING ON IT. 12/06/12 10141/288 BALL SCREW IN WASH TANK IN SHOP. 12/06/12 328 PUT A NEW BALL SCREW BACK IN.\n",
      "\n",
      "Cluster 4: 22 work orders\n",
      "Most common problem: 1st position auxiliary drill/reamer unit keeps faulting out-A-27 electrical--\n",
      "Proposed solution: 01/28/13 31102 Returned the work order to B. Conrad to capture the time the work order was actually completed. TPH\n",
      "\n",
      "Cluster 5: 124 work orders\n",
      "Most common problem: 1st position cross slide varying up to .020-\n",
      "Proposed solution: Passed back to B. Conrad to capture the actual time the work order was completed.\n",
      "\n"
     ]
    }
   ],
   "source": [
    "for i in range(5):\n",
    "    mask = (clusters == i)\n",
    "    cluster_df = df[mask]\n",
    "\n",
    "    count = len(cluster_df)\n",
    "\n",
    "    most_common = cluster_df['Work Order Description (Work Order)'].mode()[0]\n",
    "\n",
    "    X_common = vectorizer.transform([most_common])\n",
    "    solution = classifier.predict(X_common)[0]\n",
    "\n",
    "    print('Cluster {}: {} work orders'.format(i + 1, count))\n",
    "    print('Most common problem: {}'.format(most_common))\n",
    "    print('Proposed solution: {}\\n'.format(solution))"
   ]
  },
  {
   "cell_type": "code",
   "execution_count": null,
   "id": "8bbb6177",
   "metadata": {},
   "outputs": [],
   "source": []
  }
 ],
 "metadata": {
  "kernelspec": {
   "display_name": "Python 3 (ipykernel)",
   "language": "python",
   "name": "python3"
  },
  "language_info": {
   "codemirror_mode": {
    "name": "ipython",
    "version": 3
   },
   "file_extension": ".py",
   "mimetype": "text/x-python",
   "name": "python",
   "nbconvert_exporter": "python",
   "pygments_lexer": "ipython3",
   "version": "3.9.7"
  }
 },
 "nbformat": 4,
 "nbformat_minor": 5
}
